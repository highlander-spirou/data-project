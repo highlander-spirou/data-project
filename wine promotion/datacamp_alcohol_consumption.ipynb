{
 "cells": [
  {
   "cell_type": "markdown",
   "metadata": {},
   "source": [
    "# Datacamp's Russia's alcohol consumption mini contest\n",
    "\n",
    "This project uses russian_alcohol_consumption.csv to recommend top 10 similar region that has the same wine consumption as a promotion campain of Saint Peterburgs\n",
    "\n",
    "## Objective\n",
    "- Pretify matplotlib color pannels, gradients and stylings to make more beautiful graphs\n",
    "- Using clustering algorithm to find top ten similar region as Saint Peterburgs to promote wine campain\n",
    "\n",
    "## Work\n",
    "- EDA: tạo các dataframes phù hợp để inject vào bên trong các thuật toán ko giám sát\n",
    "- Do các thuật toán cơ bản bias và ảnh hưởng rất nhiều bởi lựa chọn hạt nhân (kernal) và randomness, yêu cầu kết hợp nhìu loại học ko giám sát với nhau\n",
    "\n",
    "1. Dùng Fcluster kết hợp với dendrogram để tìm ra cụm sơ cấp của Saint P\n",
    "2. Dùng Kmean để cross check với dendrogram. Từ đó, ta có thể suy ra top nth recommended value chỉ bằng cluster analysis"
   ]
  },
  {
   "cell_type": "markdown",
   "metadata": {},
   "source": [
    "## The data."
   ]
  },
  {
   "cell_type": "code",
   "execution_count": 1,
   "metadata": {},
   "outputs": [],
   "source": [
    "import pandas as pd\n",
    "df = pd.read_csv(r'./data/russian_alcohol_consumption.csv')"
   ]
  },
  {
   "cell_type": "markdown",
   "metadata": {},
   "source": [
    "#### Shape"
   ]
  },
  {
   "cell_type": "code",
   "execution_count": 2,
   "metadata": {},
   "outputs": [
    {
     "data": {
      "text/plain": [
       "2016"
      ]
     },
     "execution_count": 2,
     "metadata": {},
     "output_type": "execute_result"
    }
   ],
   "source": [
    "df.year.max()"
   ]
  },
  {
   "cell_type": "markdown",
   "metadata": {},
   "source": [
    "#### Df info"
   ]
  },
  {
   "cell_type": "code",
   "execution_count": 3,
   "metadata": {},
   "outputs": [
    {
     "name": "stdout",
     "output_type": "stream",
     "text": [
      "<class 'pandas.core.frame.DataFrame'>\n",
      "RangeIndex: 1615 entries, 0 to 1614\n",
      "Data columns (total 7 columns):\n",
      " #   Column     Non-Null Count  Dtype  \n",
      "---  ------     --------------  -----  \n",
      " 0   year       1615 non-null   int64  \n",
      " 1   region     1615 non-null   object \n",
      " 2   wine       1552 non-null   float64\n",
      " 3   beer       1557 non-null   float64\n",
      " 4   vodka      1554 non-null   float64\n",
      " 5   champagne  1552 non-null   float64\n",
      " 6   brandy     1549 non-null   float64\n",
      "dtypes: float64(5), int64(1), object(1)\n",
      "memory usage: 88.4+ KB\n"
     ]
    }
   ],
   "source": [
    "df.info()"
   ]
  },
  {
   "cell_type": "markdown",
   "metadata": {},
   "source": [
    "Tỉ lệ missing data giữa các candidate variable là:"
   ]
  },
  {
   "cell_type": "code",
   "execution_count": 4,
   "metadata": {},
   "outputs": [
    {
     "data": {
      "text/plain": [
       "year         0.000000\n",
       "region       0.000000\n",
       "wine         0.039009\n",
       "beer         0.035913\n",
       "vodka        0.037771\n",
       "champagne    0.039009\n",
       "brandy       0.040867\n",
       "dtype: float64"
      ]
     },
     "execution_count": 4,
     "metadata": {},
     "output_type": "execute_result"
    }
   ],
   "source": [
    "df.isna().sum() / len(df)"
   ]
  },
  {
   "cell_type": "markdown",
   "metadata": {},
   "source": [
    "con số này quá nhỏ, nên ta có thể loại hoàn toàn các missing data đi"
   ]
  },
  {
   "cell_type": "code",
   "execution_count": 5,
   "metadata": {},
   "outputs": [
    {
     "data": {
      "text/plain": [
       "1549"
      ]
     },
     "execution_count": 5,
     "metadata": {},
     "output_type": "execute_result"
    }
   ],
   "source": [
    "df.dropna(inplace=True)\n",
    "len(df)"
   ]
  },
  {
   "cell_type": "markdown",
   "metadata": {},
   "source": [
    "#### Tạo các subset dataframe\n",
    "\n",
    "deep copy so that we can seperately use for EDA and clustering"
   ]
  },
  {
   "cell_type": "markdown",
   "metadata": {},
   "source": [
    "table only contain alcohol"
   ]
  },
  {
   "cell_type": "code",
   "execution_count": 6,
   "metadata": {},
   "outputs": [],
   "source": [
    "alcohol = df.copy(deep=True)\n",
    "alcohol = alcohol[[\"beer\",\"vodka\", \"champagne\", \"brandy\", 'wine']]\n",
    "alcohol['sum'] = alcohol['beer'] + alcohol['vodka'] + alcohol['champagne'] + alcohol['brandy'] + alcohol['wine']"
   ]
  },
  {
   "cell_type": "markdown",
   "metadata": {},
   "source": [
    "alchohol consumption throughout the year of Saint Peterburg"
   ]
  },
  {
   "cell_type": "code",
   "execution_count": 7,
   "metadata": {},
   "outputs": [],
   "source": [
    "sp = df.copy(deep=True)\n",
    "sp = sp[sp['region'] == 'Saint Petersburg']\n",
    "sp['sum'] = sp['beer'] + sp['vodka'] + sp['champagne'] + sp['brandy'] + sp['wine']\n"
   ]
  },
  {
   "cell_type": "markdown",
   "metadata": {},
   "source": [
    "mean alcohol consumption of Russia throughout the year"
   ]
  },
  {
   "cell_type": "code",
   "execution_count": 8,
   "metadata": {},
   "outputs": [],
   "source": [
    "mu_alcohol = pd.DataFrame(df.groupby('year')[['beer', 'vodka', 'champagne', 'brandy', 'wine']].mean()).reset_index()\n",
    "mu_alcohol['sum'] = mu_alcohol['beer'] + mu_alcohol['vodka'] + mu_alcohol['champagne'] + mu_alcohol['brandy'] + mu_alcohol['wine']"
   ]
  },
  {
   "cell_type": "markdown",
   "metadata": {},
   "source": [
    "dataframe for hierarchical clustering\n",
    "\n",
    "Lưu ý: mọi dataframe đc sử dụng cho hierarchical clustering là 1 aggregation dataframe, tức nó bắt buộc phải đc group by bởi date hoặc sex hoặc bất cứ cột gì khác nếu label nó xuất hiện nhìu lần"
   ]
  },
  {
   "cell_type": "code",
   "execution_count": 9,
   "metadata": {},
   "outputs": [],
   "source": [
    "from df_transformers import df_by_year, merge_multiple_df"
   ]
  },
  {
   "cell_type": "code",
   "execution_count": 10,
   "metadata": {},
   "outputs": [
    {
     "name": "stderr",
     "output_type": "stream",
     "text": [
      "c:\\Users\\LETPC\\Nhan\\projects\\data science\\wine promotion\\df_transformers.py:19: SettingWithCopyWarning: \n",
      "A value is trying to be set on a copy of a slice from a DataFrame\n",
      "\n",
      "See the caveats in the documentation: https://pandas.pydata.org/pandas-docs/stable/user_guide/indexing.html#returning-a-view-versus-a-copy\n",
      "  returned_df.rename(columns=new_column_list, inplace=True)\n",
      "c:\\Users\\LETPC\\Nhan\\projects\\data science\\wine promotion\\df_transformers.py:19: SettingWithCopyWarning: \n",
      "A value is trying to be set on a copy of a slice from a DataFrame\n",
      "\n",
      "See the caveats in the documentation: https://pandas.pydata.org/pandas-docs/stable/user_guide/indexing.html#returning-a-view-versus-a-copy\n",
      "  returned_df.rename(columns=new_column_list, inplace=True)\n",
      "c:\\Users\\LETPC\\Nhan\\projects\\data science\\wine promotion\\df_transformers.py:19: SettingWithCopyWarning: \n",
      "A value is trying to be set on a copy of a slice from a DataFrame\n",
      "\n",
      "See the caveats in the documentation: https://pandas.pydata.org/pandas-docs/stable/user_guide/indexing.html#returning-a-view-versus-a-copy\n",
      "  returned_df.rename(columns=new_column_list, inplace=True)\n",
      "c:\\Users\\LETPC\\Nhan\\projects\\data science\\wine promotion\\df_transformers.py:19: SettingWithCopyWarning: \n",
      "A value is trying to be set on a copy of a slice from a DataFrame\n",
      "\n",
      "See the caveats in the documentation: https://pandas.pydata.org/pandas-docs/stable/user_guide/indexing.html#returning-a-view-versus-a-copy\n",
      "  returned_df.rename(columns=new_column_list, inplace=True)\n"
     ]
    }
   ],
   "source": [
    "hier_mean = pd.DataFrame(df.groupby('region')[['beer', 'vodka', 'champagne', 'brandy', 'wine']].mean()).reset_index()\n",
    "hier_max = pd.DataFrame(df.groupby('region')[['beer', 'vodka', 'champagne', 'brandy', 'wine']].max()).reset_index()\n",
    "hier_2010 = df_by_year(df, 2010, 'region').reset_index()\n",
    "hier_2016 = df_by_year(df, 2016, 'region').reset_index()\n",
    "hier_2015 = df_by_year(df, 2015, 'region').reset_index()\n",
    "hier_2014 = df_by_year(df, 2014, 'region').reset_index()"
   ]
  },
  {
   "cell_type": "code",
   "execution_count": 11,
   "metadata": {},
   "outputs": [
    {
     "data": {
      "text/html": [
       "<div>\n",
       "<style scoped>\n",
       "    .dataframe tbody tr th:only-of-type {\n",
       "        vertical-align: middle;\n",
       "    }\n",
       "\n",
       "    .dataframe tbody tr th {\n",
       "        vertical-align: top;\n",
       "    }\n",
       "\n",
       "    .dataframe thead th {\n",
       "        text-align: right;\n",
       "    }\n",
       "</style>\n",
       "<table border=\"1\" class=\"dataframe\">\n",
       "  <thead>\n",
       "    <tr style=\"text-align: right;\">\n",
       "      <th></th>\n",
       "      <th>beer_x</th>\n",
       "      <th>vodka_x</th>\n",
       "      <th>champagne_x</th>\n",
       "      <th>brandy_x</th>\n",
       "      <th>wine_x</th>\n",
       "      <th>beer_y</th>\n",
       "      <th>vodka_y</th>\n",
       "      <th>champagne_y</th>\n",
       "      <th>brandy_y</th>\n",
       "      <th>wine_y</th>\n",
       "      <th>...</th>\n",
       "      <th>beer_2015</th>\n",
       "      <th>vodka_2015</th>\n",
       "      <th>champagne_2015</th>\n",
       "      <th>brandy_2015</th>\n",
       "      <th>year_2014</th>\n",
       "      <th>wine_2014</th>\n",
       "      <th>beer_2014</th>\n",
       "      <th>vodka_2014</th>\n",
       "      <th>champagne_2014</th>\n",
       "      <th>brandy_2014</th>\n",
       "    </tr>\n",
       "    <tr>\n",
       "      <th>region</th>\n",
       "      <th></th>\n",
       "      <th></th>\n",
       "      <th></th>\n",
       "      <th></th>\n",
       "      <th></th>\n",
       "      <th></th>\n",
       "      <th></th>\n",
       "      <th></th>\n",
       "      <th></th>\n",
       "      <th></th>\n",
       "      <th></th>\n",
       "      <th></th>\n",
       "      <th></th>\n",
       "      <th></th>\n",
       "      <th></th>\n",
       "      <th></th>\n",
       "      <th></th>\n",
       "      <th></th>\n",
       "      <th></th>\n",
       "      <th></th>\n",
       "      <th></th>\n",
       "    </tr>\n",
       "  </thead>\n",
       "  <tbody>\n",
       "    <tr>\n",
       "      <th>Altai Krai</th>\n",
       "      <td>48.373158</td>\n",
       "      <td>9.465789</td>\n",
       "      <td>1.207368</td>\n",
       "      <td>0.236842</td>\n",
       "      <td>3.174211</td>\n",
       "      <td>70.40</td>\n",
       "      <td>14.2</td>\n",
       "      <td>1.54</td>\n",
       "      <td>0.40</td>\n",
       "      <td>4.80</td>\n",
       "      <td>...</td>\n",
       "      <td>45.8</td>\n",
       "      <td>4.5</td>\n",
       "      <td>0.9</td>\n",
       "      <td>0.3</td>\n",
       "      <td>2014</td>\n",
       "      <td>4.1</td>\n",
       "      <td>52.5</td>\n",
       "      <td>5.5</td>\n",
       "      <td>1.0</td>\n",
       "      <td>0.3</td>\n",
       "    </tr>\n",
       "    <tr>\n",
       "      <th>Altai Republic</th>\n",
       "      <td>36.724211</td>\n",
       "      <td>9.683684</td>\n",
       "      <td>0.934737</td>\n",
       "      <td>0.253684</td>\n",
       "      <td>5.190000</td>\n",
       "      <td>62.90</td>\n",
       "      <td>11.7</td>\n",
       "      <td>1.40</td>\n",
       "      <td>0.52</td>\n",
       "      <td>6.70</td>\n",
       "      <td>...</td>\n",
       "      <td>40.3</td>\n",
       "      <td>7.7</td>\n",
       "      <td>1.0</td>\n",
       "      <td>0.3</td>\n",
       "      <td>2014</td>\n",
       "      <td>4.2</td>\n",
       "      <td>39.0</td>\n",
       "      <td>8.8</td>\n",
       "      <td>1.4</td>\n",
       "      <td>0.4</td>\n",
       "    </tr>\n",
       "    <tr>\n",
       "      <th>Amur Oblast</th>\n",
       "      <td>53.377368</td>\n",
       "      <td>14.216842</td>\n",
       "      <td>1.115789</td>\n",
       "      <td>0.396842</td>\n",
       "      <td>5.221579</td>\n",
       "      <td>83.27</td>\n",
       "      <td>20.8</td>\n",
       "      <td>1.90</td>\n",
       "      <td>0.70</td>\n",
       "      <td>7.60</td>\n",
       "      <td>...</td>\n",
       "      <td>50.7</td>\n",
       "      <td>6.7</td>\n",
       "      <td>1.5</td>\n",
       "      <td>0.5</td>\n",
       "      <td>2014</td>\n",
       "      <td>6.1</td>\n",
       "      <td>64.0</td>\n",
       "      <td>8.3</td>\n",
       "      <td>1.8</td>\n",
       "      <td>0.6</td>\n",
       "    </tr>\n",
       "    <tr>\n",
       "      <th>Arkhangelsk Oblast</th>\n",
       "      <td>47.036842</td>\n",
       "      <td>17.381053</td>\n",
       "      <td>1.631053</td>\n",
       "      <td>0.870526</td>\n",
       "      <td>8.670000</td>\n",
       "      <td>109.00</td>\n",
       "      <td>31.9</td>\n",
       "      <td>2.60</td>\n",
       "      <td>1.30</td>\n",
       "      <td>12.23</td>\n",
       "      <td>...</td>\n",
       "      <td>49.1</td>\n",
       "      <td>11.8</td>\n",
       "      <td>1.8</td>\n",
       "      <td>0.9</td>\n",
       "      <td>2014</td>\n",
       "      <td>10.7</td>\n",
       "      <td>64.4</td>\n",
       "      <td>12.8</td>\n",
       "      <td>2.0</td>\n",
       "      <td>1.0</td>\n",
       "    </tr>\n",
       "    <tr>\n",
       "      <th>Astrakhan Oblast</th>\n",
       "      <td>54.695263</td>\n",
       "      <td>9.296842</td>\n",
       "      <td>0.861579</td>\n",
       "      <td>0.361053</td>\n",
       "      <td>4.469474</td>\n",
       "      <td>79.70</td>\n",
       "      <td>12.9</td>\n",
       "      <td>1.10</td>\n",
       "      <td>0.70</td>\n",
       "      <td>6.10</td>\n",
       "      <td>...</td>\n",
       "      <td>37.4</td>\n",
       "      <td>4.7</td>\n",
       "      <td>0.9</td>\n",
       "      <td>0.6</td>\n",
       "      <td>2014</td>\n",
       "      <td>5.1</td>\n",
       "      <td>62.9</td>\n",
       "      <td>5.8</td>\n",
       "      <td>1.0</td>\n",
       "      <td>0.7</td>\n",
       "    </tr>\n",
       "    <tr>\n",
       "      <th>...</th>\n",
       "      <td>...</td>\n",
       "      <td>...</td>\n",
       "      <td>...</td>\n",
       "      <td>...</td>\n",
       "      <td>...</td>\n",
       "      <td>...</td>\n",
       "      <td>...</td>\n",
       "      <td>...</td>\n",
       "      <td>...</td>\n",
       "      <td>...</td>\n",
       "      <td>...</td>\n",
       "      <td>...</td>\n",
       "      <td>...</td>\n",
       "      <td>...</td>\n",
       "      <td>...</td>\n",
       "      <td>...</td>\n",
       "      <td>...</td>\n",
       "      <td>...</td>\n",
       "      <td>...</td>\n",
       "      <td>...</td>\n",
       "      <td>...</td>\n",
       "    </tr>\n",
       "    <tr>\n",
       "      <th>Vologda Oblast</th>\n",
       "      <td>67.206842</td>\n",
       "      <td>17.217895</td>\n",
       "      <td>0.857368</td>\n",
       "      <td>0.517895</td>\n",
       "      <td>9.328421</td>\n",
       "      <td>108.60</td>\n",
       "      <td>26.7</td>\n",
       "      <td>1.30</td>\n",
       "      <td>0.80</td>\n",
       "      <td>18.10</td>\n",
       "      <td>...</td>\n",
       "      <td>34.7</td>\n",
       "      <td>9.3</td>\n",
       "      <td>1.1</td>\n",
       "      <td>0.6</td>\n",
       "      <td>2014</td>\n",
       "      <td>10.0</td>\n",
       "      <td>63.7</td>\n",
       "      <td>11.1</td>\n",
       "      <td>1.2</td>\n",
       "      <td>0.6</td>\n",
       "    </tr>\n",
       "    <tr>\n",
       "      <th>Voronezh Oblast</th>\n",
       "      <td>54.911053</td>\n",
       "      <td>9.916316</td>\n",
       "      <td>1.500000</td>\n",
       "      <td>0.402105</td>\n",
       "      <td>4.637895</td>\n",
       "      <td>85.20</td>\n",
       "      <td>14.2</td>\n",
       "      <td>2.30</td>\n",
       "      <td>0.60</td>\n",
       "      <td>7.50</td>\n",
       "      <td>...</td>\n",
       "      <td>51.1</td>\n",
       "      <td>4.1</td>\n",
       "      <td>1.4</td>\n",
       "      <td>0.5</td>\n",
       "      <td>2014</td>\n",
       "      <td>5.8</td>\n",
       "      <td>63.9</td>\n",
       "      <td>4.9</td>\n",
       "      <td>1.6</td>\n",
       "      <td>0.6</td>\n",
       "    </tr>\n",
       "    <tr>\n",
       "      <th>Yamalo-Nenets Autonomous Okrug</th>\n",
       "      <td>80.137895</td>\n",
       "      <td>15.093158</td>\n",
       "      <td>1.485789</td>\n",
       "      <td>0.951579</td>\n",
       "      <td>5.312105</td>\n",
       "      <td>106.60</td>\n",
       "      <td>23.3</td>\n",
       "      <td>2.53</td>\n",
       "      <td>1.80</td>\n",
       "      <td>7.70</td>\n",
       "      <td>...</td>\n",
       "      <td>82.7</td>\n",
       "      <td>8.6</td>\n",
       "      <td>1.9</td>\n",
       "      <td>1.3</td>\n",
       "      <td>2014</td>\n",
       "      <td>5.0</td>\n",
       "      <td>86.2</td>\n",
       "      <td>10.2</td>\n",
       "      <td>2.0</td>\n",
       "      <td>1.5</td>\n",
       "    </tr>\n",
       "    <tr>\n",
       "      <th>Yaroslavl Oblast</th>\n",
       "      <td>63.331579</td>\n",
       "      <td>14.944211</td>\n",
       "      <td>1.241053</td>\n",
       "      <td>0.571053</td>\n",
       "      <td>7.193158</td>\n",
       "      <td>90.10</td>\n",
       "      <td>21.1</td>\n",
       "      <td>2.10</td>\n",
       "      <td>1.10</td>\n",
       "      <td>11.30</td>\n",
       "      <td>...</td>\n",
       "      <td>39.0</td>\n",
       "      <td>8.7</td>\n",
       "      <td>1.4</td>\n",
       "      <td>0.9</td>\n",
       "      <td>2014</td>\n",
       "      <td>9.9</td>\n",
       "      <td>60.9</td>\n",
       "      <td>9.8</td>\n",
       "      <td>1.5</td>\n",
       "      <td>1.0</td>\n",
       "    </tr>\n",
       "    <tr>\n",
       "      <th>Zabaykalsky Krai</th>\n",
       "      <td>67.812105</td>\n",
       "      <td>14.237368</td>\n",
       "      <td>1.114211</td>\n",
       "      <td>0.439474</td>\n",
       "      <td>6.806316</td>\n",
       "      <td>207.30</td>\n",
       "      <td>40.6</td>\n",
       "      <td>3.10</td>\n",
       "      <td>1.80</td>\n",
       "      <td>16.30</td>\n",
       "      <td>...</td>\n",
       "      <td>31.9</td>\n",
       "      <td>7.0</td>\n",
       "      <td>0.9</td>\n",
       "      <td>0.3</td>\n",
       "      <td>2014</td>\n",
       "      <td>6.6</td>\n",
       "      <td>38.8</td>\n",
       "      <td>9.2</td>\n",
       "      <td>1.1</td>\n",
       "      <td>0.3</td>\n",
       "    </tr>\n",
       "  </tbody>\n",
       "</table>\n",
       "<p>81 rows × 34 columns</p>\n",
       "</div>"
      ],
      "text/plain": [
       "                                   beer_x    vodka_x  champagne_x  brandy_x  \\\n",
       "region                                                                        \n",
       "Altai Krai                      48.373158   9.465789     1.207368  0.236842   \n",
       "Altai Republic                  36.724211   9.683684     0.934737  0.253684   \n",
       "Amur Oblast                     53.377368  14.216842     1.115789  0.396842   \n",
       "Arkhangelsk Oblast              47.036842  17.381053     1.631053  0.870526   \n",
       "Astrakhan Oblast                54.695263   9.296842     0.861579  0.361053   \n",
       "...                                   ...        ...          ...       ...   \n",
       "Vologda Oblast                  67.206842  17.217895     0.857368  0.517895   \n",
       "Voronezh Oblast                 54.911053   9.916316     1.500000  0.402105   \n",
       "Yamalo-Nenets Autonomous Okrug  80.137895  15.093158     1.485789  0.951579   \n",
       "Yaroslavl Oblast                63.331579  14.944211     1.241053  0.571053   \n",
       "Zabaykalsky Krai                67.812105  14.237368     1.114211  0.439474   \n",
       "\n",
       "                                  wine_x  beer_y  vodka_y  champagne_y  \\\n",
       "region                                                                   \n",
       "Altai Krai                      3.174211   70.40     14.2         1.54   \n",
       "Altai Republic                  5.190000   62.90     11.7         1.40   \n",
       "Amur Oblast                     5.221579   83.27     20.8         1.90   \n",
       "Arkhangelsk Oblast              8.670000  109.00     31.9         2.60   \n",
       "Astrakhan Oblast                4.469474   79.70     12.9         1.10   \n",
       "...                                  ...     ...      ...          ...   \n",
       "Vologda Oblast                  9.328421  108.60     26.7         1.30   \n",
       "Voronezh Oblast                 4.637895   85.20     14.2         2.30   \n",
       "Yamalo-Nenets Autonomous Okrug  5.312105  106.60     23.3         2.53   \n",
       "Yaroslavl Oblast                7.193158   90.10     21.1         2.10   \n",
       "Zabaykalsky Krai                6.806316  207.30     40.6         3.10   \n",
       "\n",
       "                                brandy_y  wine_y  ...  beer_2015  vodka_2015  \\\n",
       "region                                            ...                          \n",
       "Altai Krai                          0.40    4.80  ...       45.8         4.5   \n",
       "Altai Republic                      0.52    6.70  ...       40.3         7.7   \n",
       "Amur Oblast                         0.70    7.60  ...       50.7         6.7   \n",
       "Arkhangelsk Oblast                  1.30   12.23  ...       49.1        11.8   \n",
       "Astrakhan Oblast                    0.70    6.10  ...       37.4         4.7   \n",
       "...                                  ...     ...  ...        ...         ...   \n",
       "Vologda Oblast                      0.80   18.10  ...       34.7         9.3   \n",
       "Voronezh Oblast                     0.60    7.50  ...       51.1         4.1   \n",
       "Yamalo-Nenets Autonomous Okrug      1.80    7.70  ...       82.7         8.6   \n",
       "Yaroslavl Oblast                    1.10   11.30  ...       39.0         8.7   \n",
       "Zabaykalsky Krai                    1.80   16.30  ...       31.9         7.0   \n",
       "\n",
       "                                champagne_2015  brandy_2015  year_2014  \\\n",
       "region                                                                   \n",
       "Altai Krai                                 0.9          0.3       2014   \n",
       "Altai Republic                             1.0          0.3       2014   \n",
       "Amur Oblast                                1.5          0.5       2014   \n",
       "Arkhangelsk Oblast                         1.8          0.9       2014   \n",
       "Astrakhan Oblast                           0.9          0.6       2014   \n",
       "...                                        ...          ...        ...   \n",
       "Vologda Oblast                             1.1          0.6       2014   \n",
       "Voronezh Oblast                            1.4          0.5       2014   \n",
       "Yamalo-Nenets Autonomous Okrug             1.9          1.3       2014   \n",
       "Yaroslavl Oblast                           1.4          0.9       2014   \n",
       "Zabaykalsky Krai                           0.9          0.3       2014   \n",
       "\n",
       "                                wine_2014  beer_2014  vodka_2014  \\\n",
       "region                                                             \n",
       "Altai Krai                            4.1       52.5         5.5   \n",
       "Altai Republic                        4.2       39.0         8.8   \n",
       "Amur Oblast                           6.1       64.0         8.3   \n",
       "Arkhangelsk Oblast                   10.7       64.4        12.8   \n",
       "Astrakhan Oblast                      5.1       62.9         5.8   \n",
       "...                                   ...        ...         ...   \n",
       "Vologda Oblast                       10.0       63.7        11.1   \n",
       "Voronezh Oblast                       5.8       63.9         4.9   \n",
       "Yamalo-Nenets Autonomous Okrug        5.0       86.2        10.2   \n",
       "Yaroslavl Oblast                      9.9       60.9         9.8   \n",
       "Zabaykalsky Krai                      6.6       38.8         9.2   \n",
       "\n",
       "                                champagne_2014  brandy_2014  \n",
       "region                                                       \n",
       "Altai Krai                                 1.0          0.3  \n",
       "Altai Republic                             1.4          0.4  \n",
       "Amur Oblast                                1.8          0.6  \n",
       "Arkhangelsk Oblast                         2.0          1.0  \n",
       "Astrakhan Oblast                           1.0          0.7  \n",
       "...                                        ...          ...  \n",
       "Vologda Oblast                             1.2          0.6  \n",
       "Voronezh Oblast                            1.6          0.6  \n",
       "Yamalo-Nenets Autonomous Okrug             2.0          1.5  \n",
       "Yaroslavl Oblast                           1.5          1.0  \n",
       "Zabaykalsky Krai                           1.1          0.3  \n",
       "\n",
       "[81 rows x 34 columns]"
      ]
     },
     "execution_count": 11,
     "metadata": {},
     "output_type": "execute_result"
    }
   ],
   "source": [
    "frames = [hier_mean, hier_max, hier_2010, hier_2016, hier_2015, hier_2014]\n",
    "df_merged = merge_multiple_df(frames, 'region', 'region')\n",
    "df_merged"
   ]
  },
  {
   "cell_type": "markdown",
   "metadata": {},
   "source": [
    "#### EDA"
   ]
  },
  {
   "cell_type": "code",
   "execution_count": 12,
   "metadata": {},
   "outputs": [],
   "source": [
    "import matplotlib.pyplot as plt\n",
    "import seaborn as sns\n",
    "from plot_graph import plot_catplot_columns, plot_lineplot_comparison\n",
    "plt.rcParams[\"figure.figsize\"] = (15,8)\n",
    "sns.set(style=\"whitegrid\")\n"
   ]
  },
  {
   "cell_type": "code",
   "execution_count": 13,
   "metadata": {},
   "outputs": [
    {
     "data": {
      "image/png": "[encoded data removed]",
      "text/plain": [
       "<Figure size 576x432 with 5 Axes>"
      ]
     },
     "metadata": {},
     "output_type": "display_data"
    }
   ],
   "source": [
    "plot_catplot_columns(alcohol, [\"beer\",\"vodka\", \"champagne\", \"brandy\", 'wine', 'sum'], sns.kdeplot, shade=True)\n",
    "sns.despine()"
   ]
  },
  {
   "cell_type": "code",
   "execution_count": 14,
   "metadata": {},
   "outputs": [
    {
     "data": {
      "image/png": "[encoded data removed]",
      "text/plain": [
       "<Figure size 1080x432 with 5 Axes>"
      ]
     },
     "metadata": {},
     "output_type": "display_data"
    }
   ],
   "source": [
    "plot_lineplot_comparison(df_1=mu_alcohol, df_2=sp, x='year', cols=[\"beer\",\"vodka\", \"champagne\", \"brandy\", \"wine\"], \n",
    "                         legend=[\"Russia\", \"Saint\"], figsize=(15, 6))"
   ]
  },
  {
   "cell_type": "markdown",
   "metadata": {},
   "source": [
    "# Thuật toán phân cấp cụm bằng dendrogram"
   ]
  },
  {
   "cell_type": "markdown",
   "metadata": {},
   "source": [
    "## Dùng plotly để tạo interactive dendrogram"
   ]
  },
  {
   "cell_type": "code",
   "execution_count": 15,
   "metadata": {},
   "outputs": [],
   "source": [
    "from plot_graph import draw_plotly_f_cluster"
   ]
  },
  {
   "cell_type": "code",
   "execution_count": 16,
   "metadata": {},
   "outputs": [
    {
     "data": {
      "application/vnd.plotly.v1+json": {
       "config": {
        "plotlyServerURL": "https://plot.ly"
       },
       "data": [
        {
         "hoverinfo": "text",
         "marker": {
          "color": "rgb(61,153,112)"
         },
         "mode": "lines",
         "type": "scatter",
         "x": [
          0,
          16.126883990951804,
          16.126883990951804,
          0
         ],
         "xaxis": "x",
         "y": [
          -15,
          -15,
          -25,
          -25
         ],
         "yaxis": "y"
        },
        {
         "hoverinfo": "text",
         "marker": {
          "color": "rgb(61,153,112)"
         },
         "mode": "lines",
         "type": "scatter",
         "x": [
          0,
          14.917326918126838,
          14.917326918126838,
          0
         ],
         "xaxis": "x",
         "y": [
          -45,
          -45,
          -55,
          -55
         ],
         "yaxis": "y"
        },
        {
         "hoverinfo": "text",
         "marker": {
          "color": "rgb(61,153,112)"
         },
         "mode": "lines",
         "type": "scatter",
         "x": [
          0,
          24.76320181214295,
          24.76320181214295,
          14.917326918126838
         ],
         "xaxis": "x",
         "y": [
          -35,
          -35,
          -50,
          -50
         ],
         "yaxis": "y"
        },
        {
         "hoverinfo": "text",
         "marker": {
          "color": "rgb(61,153,112)"
         },
         "mode": "lines",
         "type": "scatter",
         "x": [
          16.126883990951804,
          30.197569383576223,
          30.197569383576223,
          24.76320181214295
         ],
         "xaxis": "x",
         "y": [
          -20,
          -20,
          -42.5,
          -42.5
         ],
         "yaxis": "y"
        },
        {
         "hoverinfo": "text",
         "marker": {
          "color": "rgb(61,153,112)"
         },
         "mode": "lines",
         "type": "scatter",
         "x": [
          0,
          10.933725621016777,
          10.933725621016777,
          0
         ],
         "xaxis": "x",
         "y": [
          -85,
          -85,
          -95,
          -95
         ],
         "yaxis": "y"
        },
        {
         "hoverinfo": "text",
         "marker": {
          "color": "rgb(61,153,112)"
         },
         "mode": "lines",
         "type": "scatter",
         "x": [
          0,
          21.148338618335703,
          21.148338618335703,
          10.933725621016777
         ],
         "xaxis": "x",
         "y": [
          -75,
          -75,
          -90,
          -90
         ],
         "yaxis": "y"
        },
        {
         "hoverinfo": "text",
         "marker": {
          "color": "rgb(61,153,112)"
         },
         "mode": "lines",
         "type": "scatter",
         "x": [
          0,
          37.69205004093155,
          37.69205004093155,
          21.148338618335703
         ],
         "xaxis": "x",
         "y": [
          -65,
          -65,
          -82.5,
          -82.5
         ],
         "yaxis": "y"
        },
        {
         "hoverinfo": "text",
         "marker": {
          "color": "rgb(61,153,112)"
         },
         "mode": "lines",
         "type": "scatter",
         "x": [
          30.197569383576223,
          59.122023482496104,
          59.122023482496104,
          37.69205004093155
         ],
         "xaxis": "x",
         "y": [
          -31.25,
          -31.25,
          -73.75,
          -73.75
         ],
         "yaxis": "y"
        },
        {
         "hoverinfo": "text",
         "marker": {
          "color": "rgb(61,153,112)"
         },
         "mode": "lines",
         "type": "scatter",
         "x": [
          0,
          92.55949307130916,
          92.55949307130916,
          59.122023482496104
         ],
         "xaxis": "x",
         "y": [
          -5,
          -5,
          -52.5,
          -52.5
         ],
         "yaxis": "y"
        },
        {
         "hoverinfo": "text",
         "marker": {
          "color": "rgb(255,65,54)"
         },
         "mode": "lines",
         "type": "scatter",
         "x": [
          0,
          17.49432807173343,
          17.49432807173343,
          0
         ],
         "xaxis": "x",
         "y": [
          -115,
          -115,
          -125,
          -125
         ],
         "yaxis": "y"
        },
        {
         "hoverinfo": "text",
         "marker": {
          "color": "rgb(255,65,54)"
         },
         "mode": "lines",
         "type": "scatter",
         "x": [
          0,
          15.269310103109786,
          15.269310103109786,
          0
         ],
         "xaxis": "x",
         "y": [
          -145,
          -145,
          -155,
          -155
         ],
         "yaxis": "y"
        },
        {
         "hoverinfo": "text",
         "marker": {
          "color": "rgb(255,65,54)"
         },
         "mode": "lines",
         "type": "scatter",
         "x": [
          0,
          21.905639959833668,
          21.905639959833668,
          15.269310103109786
         ],
         "xaxis": "x",
         "y": [
          -135,
          -135,
          -150,
          -150
         ],
         "yaxis": "y"
        },
        {
         "hoverinfo": "text",
         "marker": {
          "color": "rgb(255,65,54)"
         },
         "mode": "lines",
         "type": "scatter",
         "x": [
          17.49432807173343,
          31.645050616673938,
          31.645050616673938,
          21.905639959833668
         ],
         "xaxis": "x",
         "y": [
          -120,
          -120,
          -142.5,
          -142.5
         ],
         "yaxis": "y"
        },
        {
         "hoverinfo": "text",
         "marker": {
          "color": "rgb(255,65,54)"
         },
         "mode": "lines",
         "type": "scatter",
         "x": [
          0,
          9.069606606072819,
          9.069606606072819,
          0
         ],
         "xaxis": "x",
         "y": [
          -185,
          -185,
          -195,
          -195
         ],
         "yaxis": "y"
        },
        {
         "hoverinfo": "text",
         "marker": {
          "color": "rgb(255,65,54)"
         },
         "mode": "lines",
         "type": "scatter",
         "x": [
          0,
          14.754027216783001,
          14.754027216783001,
          9.069606606072819
         ],
         "xaxis": "x",
         "y": [
          -175,
          -175,
          -190,
          -190
         ],
         "yaxis": "y"
        },
        {
         "hoverinfo": "text",
         "marker": {
          "color": "rgb(255,65,54)"
         },
         "mode": "lines",
         "type": "scatter",
         "x": [
          0,
          24.86196666449767,
          24.86196666449767,
          14.754027216783001
         ],
         "xaxis": "x",
         "y": [
          -165,
          -165,
          -182.5,
          -182.5
         ],
         "yaxis": "y"
        },
        {
         "hoverinfo": "text",
         "marker": {
          "color": "rgb(255,65,54)"
         },
         "mode": "lines",
         "type": "scatter",
         "x": [
          0,
          8.652243412345843,
          8.652243412345843,
          0
         ],
         "xaxis": "x",
         "y": [
          -245,
          -245,
          -255,
          -255
         ],
         "yaxis": "y"
        },
        {
         "hoverinfo": "text",
         "marker": {
          "color": "rgb(255,65,54)"
         },
         "mode": "lines",
         "type": "scatter",
         "x": [
          0,
          11.111973864165396,
          11.111973864165396,
          8.652243412345843
         ],
         "xaxis": "x",
         "y": [
          -235,
          -235,
          -250,
          -250
         ],
         "yaxis": "y"
        },
        {
         "hoverinfo": "text",
         "marker": {
          "color": "rgb(255,65,54)"
         },
         "mode": "lines",
         "type": "scatter",
         "x": [
          0,
          21.7958349282978,
          21.7958349282978,
          11.111973864165396
         ],
         "xaxis": "x",
         "y": [
          -225,
          -225,
          -242.5,
          -242.5
         ],
         "yaxis": "y"
        },
        {
         "hoverinfo": "text",
         "marker": {
          "color": "rgb(255,65,54)"
         },
         "mode": "lines",
         "type": "scatter",
         "x": [
          0,
          24.143577548534623,
          24.143577548534623,
          21.7958349282978
         ],
         "xaxis": "x",
         "y": [
          -215,
          -215,
          -233.75,
          -233.75
         ],
         "yaxis": "y"
        },
        {
         "hoverinfo": "text",
         "marker": {
          "color": "rgb(255,65,54)"
         },
         "mode": "lines",
         "type": "scatter",
         "x": [
          0,
          30.662000551812255,
          30.662000551812255,
          24.143577548534623
         ],
         "xaxis": "x",
         "y": [
          -205,
          -205,
          -224.375,
          -224.375
         ],
         "yaxis": "y"
        },
        {
         "hoverinfo": "text",
         "marker": {
          "color": "rgb(255,65,54)"
         },
         "mode": "lines",
         "type": "scatter",
         "x": [
          24.86196666449767,
          36.21348330567212,
          36.21348330567212,
          30.662000551812255
         ],
         "xaxis": "x",
         "y": [
          -173.75,
          -173.75,
          -214.6875,
          -214.6875
         ],
         "yaxis": "y"
        },
        {
         "hoverinfo": "text",
         "marker": {
          "color": "rgb(255,65,54)"
         },
         "mode": "lines",
         "type": "scatter",
         "x": [
          31.645050616673938,
          42.823905063356214,
          42.823905063356214,
          36.21348330567212
         ],
         "xaxis": "x",
         "y": [
          -131.25,
          -131.25,
          -194.21875,
          -194.21875
         ],
         "yaxis": "y"
        },
        {
         "hoverinfo": "text",
         "marker": {
          "color": "rgb(255,65,54)"
         },
         "mode": "lines",
         "type": "scatter",
         "x": [
          0,
          10.751413899158797,
          10.751413899158797,
          0
         ],
         "xaxis": "x",
         "y": [
          -265,
          -265,
          -275,
          -275
         ],
         "yaxis": "y"
        },
        {
         "hoverinfo": "text",
         "marker": {
          "color": "rgb(255,65,54)"
         },
         "mode": "lines",
         "type": "scatter",
         "x": [
          0,
          16.76359653230956,
          16.76359653230956,
          0
         ],
         "xaxis": "x",
         "y": [
          -295,
          -295,
          -305,
          -305
         ],
         "yaxis": "y"
        },
        {
         "hoverinfo": "text",
         "marker": {
          "color": "rgb(255,65,54)"
         },
         "mode": "lines",
         "type": "scatter",
         "x": [
          0,
          20.426589889534558,
          20.426589889534558,
          16.76359653230956
         ],
         "xaxis": "x",
         "y": [
          -285,
          -285,
          -300,
          -300
         ],
         "yaxis": "y"
        },
        {
         "hoverinfo": "text",
         "marker": {
          "color": "rgb(255,65,54)"
         },
         "mode": "lines",
         "type": "scatter",
         "x": [
          10.751413899158797,
          23.890766705884808,
          23.890766705884808,
          20.426589889534558
         ],
         "xaxis": "x",
         "y": [
          -270,
          -270,
          -292.5,
          -292.5
         ],
         "yaxis": "y"
        },
        {
         "hoverinfo": "text",
         "marker": {
          "color": "rgb(255,65,54)"
         },
         "mode": "lines",
         "type": "scatter",
         "x": [
          0,
          16.361120787012183,
          16.361120787012183,
          0
         ],
         "xaxis": "x",
         "y": [
          -325,
          -325,
          -335,
          -335
         ],
         "yaxis": "y"
        },
        {
         "hoverinfo": "text",
         "marker": {
          "color": "rgb(255,65,54)"
         },
         "mode": "lines",
         "type": "scatter",
         "x": [
          0,
          16.588004827438553,
          16.588004827438553,
          0
         ],
         "xaxis": "x",
         "y": [
          -345,
          -345,
          -355,
          -355
         ],
         "yaxis": "y"
        },
        {
         "hoverinfo": "text",
         "marker": {
          "color": "rgb(255,65,54)"
         },
         "mode": "lines",
         "type": "scatter",
         "x": [
          16.361120787012183,
          17.93094241374043,
          17.93094241374043,
          16.588004827438553
         ],
         "xaxis": "x",
         "y": [
          -330,
          -330,
          -350,
          -350
         ],
         "yaxis": "y"
        },
        {
         "hoverinfo": "text",
         "marker": {
          "color": "rgb(255,65,54)"
         },
         "mode": "lines",
         "type": "scatter",
         "x": [
          0,
          24.452861656936932,
          24.452861656936932,
          17.93094241374043
         ],
         "xaxis": "x",
         "y": [
          -315,
          -315,
          -340,
          -340
         ],
         "yaxis": "y"
        },
        {
         "hoverinfo": "text",
         "marker": {
          "color": "rgb(255,65,54)"
         },
         "mode": "lines",
         "type": "scatter",
         "x": [
          23.890766705884808,
          35.40273398992257,
          35.40273398992257,
          24.452861656936932
         ],
         "xaxis": "x",
         "y": [
          -281.25,
          -281.25,
          -327.5,
          -327.5
         ],
         "yaxis": "y"
        },
        {
         "hoverinfo": "text",
         "marker": {
          "color": "rgb(255,65,54)"
         },
         "mode": "lines",
         "type": "scatter",
         "x": [
          0,
          13.188711680428604,
          13.188711680428604,
          0
         ],
         "xaxis": "x",
         "y": [
          -365,
          -365,
          -375,
          -375
         ],
         "yaxis": "y"
        },
        {
         "hoverinfo": "text",
         "marker": {
          "color": "rgb(255,65,54)"
         },
         "mode": "lines",
         "type": "scatter",
         "x": [
          0,
          10.195150699422426,
          10.195150699422426,
          0
         ],
         "xaxis": "x",
         "y": [
          -405,
          -405,
          -415,
          -415
         ],
         "yaxis": "y"
        },
        {
         "hoverinfo": "text",
         "marker": {
          "color": "rgb(255,65,54)"
         },
         "mode": "lines",
         "type": "scatter",
         "x": [
          0,
          14.604883352102881,
          14.604883352102881,
          10.195150699422426
         ],
         "xaxis": "x",
         "y": [
          -395,
          -395,
          -410,
          -410
         ],
         "yaxis": "y"
        },
        {
         "hoverinfo": "text",
         "marker": {
          "color": "rgb(255,65,54)"
         },
         "mode": "lines",
         "type": "scatter",
         "x": [
          0,
          19.978439438111064,
          19.978439438111064,
          14.604883352102881
         ],
         "xaxis": "x",
         "y": [
          -385,
          -385,
          -402.5,
          -402.5
         ],
         "yaxis": "y"
        },
        {
         "hoverinfo": "text",
         "marker": {
          "color": "rgb(255,65,54)"
         },
         "mode": "lines",
         "type": "scatter",
         "x": [
          13.188711680428604,
          25.66570289828739,
          25.66570289828739,
          19.978439438111064
         ],
         "xaxis": "x",
         "y": [
          -370,
          -370,
          -393.75,
          -393.75
         ],
         "yaxis": "y"
        },
        {
         "hoverinfo": "text",
         "marker": {
          "color": "rgb(255,65,54)"
         },
         "mode": "lines",
         "type": "scatter",
         "x": [
          0,
          11.114689376883115,
          11.114689376883115,
          0
         ],
         "xaxis": "x",
         "y": [
          -455,
          -455,
          -465,
          -465
         ],
         "yaxis": "y"
        },
        {
         "hoverinfo": "text",
         "marker": {
          "color": "rgb(255,65,54)"
         },
         "mode": "lines",
         "type": "scatter",
         "x": [
          0,
          14.180983726314025,
          14.180983726314025,
          11.114689376883115
         ],
         "xaxis": "x",
         "y": [
          -445,
          -445,
          -460,
          -460
         ],
         "yaxis": "y"
        },
        {
         "hoverinfo": "text",
         "marker": {
          "color": "rgb(255,65,54)"
         },
         "mode": "lines",
         "type": "scatter",
         "x": [
          0,
          18.31085527154926,
          18.31085527154926,
          14.180983726314025
         ],
         "xaxis": "x",
         "y": [
          -435,
          -435,
          -452.5,
          -452.5
         ],
         "yaxis": "y"
        },
        {
         "hoverinfo": "text",
         "marker": {
          "color": "rgb(255,65,54)"
         },
         "mode": "lines",
         "type": "scatter",
         "x": [
          0,
          26.943207131414695,
          26.943207131414695,
          18.31085527154926
         ],
         "xaxis": "x",
         "y": [
          -425,
          -425,
          -443.75,
          -443.75
         ],
         "yaxis": "y"
        },
        {
         "hoverinfo": "text",
         "marker": {
          "color": "rgb(255,65,54)"
         },
         "mode": "lines",
         "type": "scatter",
         "x": [
          25.66570289828739,
          44.87630587919288,
          44.87630587919288,
          26.943207131414695
         ],
         "xaxis": "x",
         "y": [
          -381.875,
          -381.875,
          -434.375,
          -434.375
         ],
         "yaxis": "y"
        },
        {
         "hoverinfo": "text",
         "marker": {
          "color": "rgb(255,65,54)"
         },
         "mode": "lines",
         "type": "scatter",
         "x": [
          35.40273398992257,
          48.84580721281478,
          48.84580721281478,
          44.87630587919288
         ],
         "xaxis": "x",
         "y": [
          -304.375,
          -304.375,
          -408.125,
          -408.125
         ],
         "yaxis": "y"
        },
        {
         "hoverinfo": "text",
         "marker": {
          "color": "rgb(255,65,54)"
         },
         "mode": "lines",
         "type": "scatter",
         "x": [
          42.823905063356214,
          65.24255109730312,
          65.24255109730312,
          48.84580721281478
         ],
         "xaxis": "x",
         "y": [
          -162.734375,
          -162.734375,
          -356.25,
          -356.25
         ],
         "yaxis": "y"
        },
        {
         "hoverinfo": "text",
         "marker": {
          "color": "rgb(35,205,205)"
         },
         "mode": "lines",
         "type": "scatter",
         "x": [
          0,
          15.927001550616861,
          15.927001550616861,
          0
         ],
         "xaxis": "x",
         "y": [
          -495,
          -495,
          -505,
          -505
         ],
         "yaxis": "y"
        },
        {
         "hoverinfo": "text",
         "marker": {
          "color": "rgb(35,205,205)"
         },
         "mode": "lines",
         "type": "scatter",
         "x": [
          0,
          18.73954139338392,
          18.73954139338392,
          0
         ],
         "xaxis": "x",
         "y": [
          -515,
          -515,
          -525,
          -525
         ],
         "yaxis": "y"
        },
        {
         "hoverinfo": "text",
         "marker": {
          "color": "rgb(35,205,205)"
         },
         "mode": "lines",
         "type": "scatter",
         "x": [
          15.927001550616861,
          22.38248839391191,
          22.38248839391191,
          18.73954139338392
         ],
         "xaxis": "x",
         "y": [
          -500,
          -500,
          -520,
          -520
         ],
         "yaxis": "y"
        },
        {
         "hoverinfo": "text",
         "marker": {
          "color": "rgb(35,205,205)"
         },
         "mode": "lines",
         "type": "scatter",
         "x": [
          0,
          29.128750426083194,
          29.128750426083194,
          22.38248839391191
         ],
         "xaxis": "x",
         "y": [
          -485,
          -485,
          -510,
          -510
         ],
         "yaxis": "y"
        },
        {
         "hoverinfo": "text",
         "marker": {
          "color": "rgb(35,205,205)"
         },
         "mode": "lines",
         "type": "scatter",
         "x": [
          0,
          29.3380600043688,
          29.3380600043688,
          0
         ],
         "xaxis": "x",
         "y": [
          -535,
          -535,
          -545,
          -545
         ],
         "yaxis": "y"
        },
        {
         "hoverinfo": "text",
         "marker": {
          "color": "rgb(35,205,205)"
         },
         "mode": "lines",
         "type": "scatter",
         "x": [
          29.128750426083194,
          38.0873938691682,
          38.0873938691682,
          29.3380600043688
         ],
         "xaxis": "x",
         "y": [
          -497.5,
          -497.5,
          -540,
          -540
         ],
         "yaxis": "y"
        },
        {
         "hoverinfo": "text",
         "marker": {
          "color": "rgb(35,205,205)"
         },
         "mode": "lines",
         "type": "scatter",
         "x": [
          0,
          11.643779276715753,
          11.643779276715753,
          0
         ],
         "xaxis": "x",
         "y": [
          -575,
          -575,
          -585,
          -585
         ],
         "yaxis": "y"
        },
        {
         "hoverinfo": "text",
         "marker": {
          "color": "rgb(35,205,205)"
         },
         "mode": "lines",
         "type": "scatter",
         "x": [
          0,
          17.41165031692868,
          17.41165031692868,
          11.643779276715753
         ],
         "xaxis": "x",
         "y": [
          -565,
          -565,
          -580,
          -580
         ],
         "yaxis": "y"
        },
        {
         "hoverinfo": "text",
         "marker": {
          "color": "rgb(35,205,205)"
         },
         "mode": "lines",
         "type": "scatter",
         "x": [
          0,
          26.754264661214794,
          26.754264661214794,
          17.41165031692868
         ],
         "xaxis": "x",
         "y": [
          -555,
          -555,
          -572.5,
          -572.5
         ],
         "yaxis": "y"
        },
        {
         "hoverinfo": "text",
         "marker": {
          "color": "rgb(35,205,205)"
         },
         "mode": "lines",
         "type": "scatter",
         "x": [
          0,
          14.154481235925664,
          14.154481235925664,
          0
         ],
         "xaxis": "x",
         "y": [
          -615,
          -615,
          -625,
          -625
         ],
         "yaxis": "y"
        },
        {
         "hoverinfo": "text",
         "marker": {
          "color": "rgb(35,205,205)"
         },
         "mode": "lines",
         "type": "scatter",
         "x": [
          0,
          19.15282330937717,
          19.15282330937717,
          14.154481235925664
         ],
         "xaxis": "x",
         "y": [
          -605,
          -605,
          -620,
          -620
         ],
         "yaxis": "y"
        },
        {
         "hoverinfo": "text",
         "marker": {
          "color": "rgb(35,205,205)"
         },
         "mode": "lines",
         "type": "scatter",
         "x": [
          0,
          27.999290735971357,
          27.999290735971357,
          19.15282330937717
         ],
         "xaxis": "x",
         "y": [
          -595,
          -595,
          -612.5,
          -612.5
         ],
         "yaxis": "y"
        },
        {
         "hoverinfo": "text",
         "marker": {
          "color": "rgb(35,205,205)"
         },
         "mode": "lines",
         "type": "scatter",
         "x": [
          26.754264661214794,
          39.74052354504591,
          39.74052354504591,
          27.999290735971357
         ],
         "xaxis": "x",
         "y": [
          -563.75,
          -563.75,
          -603.75,
          -603.75
         ],
         "yaxis": "y"
        },
        {
         "hoverinfo": "text",
         "marker": {
          "color": "rgb(35,205,205)"
         },
         "mode": "lines",
         "type": "scatter",
         "x": [
          38.0873938691682,
          59.57274637387733,
          59.57274637387733,
          39.74052354504591
         ],
         "xaxis": "x",
         "y": [
          -518.75,
          -518.75,
          -583.75,
          -583.75
         ],
         "yaxis": "y"
        },
        {
         "hoverinfo": "text",
         "marker": {
          "color": "rgb(35,205,205)"
         },
         "mode": "lines",
         "type": "scatter",
         "x": [
          0,
          75.67673522669061,
          75.67673522669061,
          59.57274637387733
         ],
         "xaxis": "x",
         "y": [
          -475,
          -475,
          -551.25,
          -551.25
         ],
         "yaxis": "y"
        },
        {
         "hoverinfo": "text",
         "marker": {
          "color": "rgb(133,20,75)"
         },
         "mode": "lines",
         "type": "scatter",
         "x": [
          0,
          25.524429024139014,
          25.524429024139014,
          0
         ],
         "xaxis": "x",
         "y": [
          -645,
          -645,
          -655,
          -655
         ],
         "yaxis": "y"
        },
        {
         "hoverinfo": "text",
         "marker": {
          "color": "rgb(133,20,75)"
         },
         "mode": "lines",
         "type": "scatter",
         "x": [
          0,
          53.56508225108123,
          53.56508225108123,
          25.524429024139014
         ],
         "xaxis": "x",
         "y": [
          -635,
          -635,
          -650,
          -650
         ],
         "yaxis": "y"
        },
        {
         "hoverinfo": "text",
         "marker": {
          "color": "rgb(133,20,75)"
         },
         "mode": "lines",
         "type": "scatter",
         "x": [
          0,
          19.659048236431158,
          19.659048236431158,
          0
         ],
         "xaxis": "x",
         "y": [
          -675,
          -675,
          -685,
          -685
         ],
         "yaxis": "y"
        },
        {
         "hoverinfo": "text",
         "marker": {
          "color": "rgb(133,20,75)"
         },
         "mode": "lines",
         "type": "scatter",
         "x": [
          0,
          11.341073429680108,
          11.341073429680108,
          0
         ],
         "xaxis": "x",
         "y": [
          -735,
          -735,
          -745,
          -745
         ],
         "yaxis": "y"
        },
        {
         "hoverinfo": "text",
         "marker": {
          "color": "rgb(133,20,75)"
         },
         "mode": "lines",
         "type": "scatter",
         "x": [
          0,
          17.136624788483704,
          17.136624788483704,
          11.341073429680108
         ],
         "xaxis": "x",
         "y": [
          -725,
          -725,
          -740,
          -740
         ],
         "yaxis": "y"
        },
        {
         "hoverinfo": "text",
         "marker": {
          "color": "rgb(133,20,75)"
         },
         "mode": "lines",
         "type": "scatter",
         "x": [
          0,
          21.947280745754455,
          21.947280745754455,
          17.136624788483704
         ],
         "xaxis": "x",
         "y": [
          -715,
          -715,
          -732.5,
          -732.5
         ],
         "yaxis": "y"
        },
        {
         "hoverinfo": "text",
         "marker": {
          "color": "rgb(133,20,75)"
         },
         "mode": "lines",
         "type": "scatter",
         "x": [
          0,
          28.74050067803929,
          28.74050067803929,
          21.947280745754455
         ],
         "xaxis": "x",
         "y": [
          -705,
          -705,
          -723.75,
          -723.75
         ],
         "yaxis": "y"
        },
        {
         "hoverinfo": "text",
         "marker": {
          "color": "rgb(133,20,75)"
         },
         "mode": "lines",
         "type": "scatter",
         "x": [
          0,
          13.815291680255127,
          13.815291680255127,
          0
         ],
         "xaxis": "x",
         "y": [
          -775,
          -775,
          -785,
          -785
         ],
         "yaxis": "y"
        },
        {
         "hoverinfo": "text",
         "marker": {
          "color": "rgb(133,20,75)"
         },
         "mode": "lines",
         "type": "scatter",
         "x": [
          0,
          15.007517368383324,
          15.007517368383324,
          0
         ],
         "xaxis": "x",
         "y": [
          -795,
          -795,
          -805,
          -805
         ],
         "yaxis": "y"
        },
        {
         "hoverinfo": "text",
         "marker": {
          "color": "rgb(133,20,75)"
         },
         "mode": "lines",
         "type": "scatter",
         "x": [
          13.815291680255127,
          16.728842295357335,
          16.728842295357335,
          15.007517368383324
         ],
         "xaxis": "x",
         "y": [
          -780,
          -780,
          -800,
          -800
         ],
         "yaxis": "y"
        },
        {
         "hoverinfo": "text",
         "marker": {
          "color": "rgb(133,20,75)"
         },
         "mode": "lines",
         "type": "scatter",
         "x": [
          0,
          17.37520197774153,
          17.37520197774153,
          16.728842295357335
         ],
         "xaxis": "x",
         "y": [
          -765,
          -765,
          -790,
          -790
         ],
         "yaxis": "y"
        },
        {
         "hoverinfo": "text",
         "marker": {
          "color": "rgb(133,20,75)"
         },
         "mode": "lines",
         "type": "scatter",
         "x": [
          0,
          31.6706883629807,
          31.6706883629807,
          17.37520197774153
         ],
         "xaxis": "x",
         "y": [
          -755,
          -755,
          -777.5,
          -777.5
         ],
         "yaxis": "y"
        },
        {
         "hoverinfo": "text",
         "marker": {
          "color": "rgb(133,20,75)"
         },
         "mode": "lines",
         "type": "scatter",
         "x": [
          28.74050067803929,
          37.050579705447205,
          37.050579705447205,
          31.6706883629807
         ],
         "xaxis": "x",
         "y": [
          -714.375,
          -714.375,
          -766.25,
          -766.25
         ],
         "yaxis": "y"
        },
        {
         "hoverinfo": "text",
         "marker": {
          "color": "rgb(133,20,75)"
         },
         "mode": "lines",
         "type": "scatter",
         "x": [
          0,
          56.44628452400651,
          56.44628452400651,
          37.050579705447205
         ],
         "xaxis": "x",
         "y": [
          -695,
          -695,
          -740.3125,
          -740.3125
         ],
         "yaxis": "y"
        },
        {
         "hoverinfo": "text",
         "marker": {
          "color": "rgb(133,20,75)"
         },
         "mode": "lines",
         "type": "scatter",
         "x": [
          19.659048236431158,
          62.84660272189905,
          62.84660272189905,
          56.44628452400651
         ],
         "xaxis": "x",
         "y": [
          -680,
          -680,
          -717.65625,
          -717.65625
         ],
         "yaxis": "y"
        },
        {
         "hoverinfo": "text",
         "marker": {
          "color": "rgb(133,20,75)"
         },
         "mode": "lines",
         "type": "scatter",
         "x": [
          0,
          69.5644561289003,
          69.5644561289003,
          62.84660272189905
         ],
         "xaxis": "x",
         "y": [
          -665,
          -665,
          -698.828125,
          -698.828125
         ],
         "yaxis": "y"
        },
        {
         "hoverinfo": "text",
         "marker": {
          "color": "rgb(133,20,75)"
         },
         "mode": "lines",
         "type": "scatter",
         "x": [
          53.56508225108123,
          97.3129060857743,
          97.3129060857743,
          69.5644561289003
         ],
         "xaxis": "x",
         "y": [
          -642.5,
          -642.5,
          -681.9140625,
          -681.9140625
         ],
         "yaxis": "y"
        },
        {
         "hoverinfo": "text",
         "marker": {
          "color": "rgb(0,116,217)"
         },
         "mode": "lines",
         "type": "scatter",
         "x": [
          75.67673522669061,
          112.91013914194168,
          112.91013914194168,
          97.3129060857743
         ],
         "xaxis": "x",
         "y": [
          -513.125,
          -513.125,
          -662.20703125,
          -662.20703125
         ],
         "yaxis": "y"
        },
        {
         "hoverinfo": "text",
         "marker": {
          "color": "rgb(0,116,217)"
         },
         "mode": "lines",
         "type": "scatter",
         "x": [
          65.24255109730312,
          128.14146767086018,
          128.14146767086018,
          112.91013914194168
         ],
         "xaxis": "x",
         "y": [
          -259.4921875,
          -259.4921875,
          -587.666015625,
          -587.666015625
         ],
         "yaxis": "y"
        },
        {
         "hoverinfo": "text",
         "marker": {
          "color": "rgb(0,116,217)"
         },
         "mode": "lines",
         "type": "scatter",
         "x": [
          0,
          162.84728188196294,
          162.84728188196294,
          128.14146767086018
         ],
         "xaxis": "x",
         "y": [
          -105,
          -105,
          -423.5791015625,
          -423.5791015625
         ],
         "yaxis": "y"
        },
        {
         "hoverinfo": "text",
         "marker": {
          "color": "rgb(0,116,217)"
         },
         "mode": "lines",
         "type": "scatter",
         "x": [
          92.55949307130916,
          225.6797564736245,
          225.6797564736245,
          162.84728188196294
         ],
         "xaxis": "x",
         "y": [
          -28.75,
          -28.75,
          -264.28955078125,
          -264.28955078125
         ],
         "yaxis": "y"
        }
       ],
       "layout": {
        "autosize": false,
        "height": 1500,
        "hovermode": "closest",
        "showlegend": false,
        "template": {
         "data": {
          "bar": [
           {
            "error_x": {
             "color": "#2a3f5f"
            },
            "error_y": {
             "color": "#2a3f5f"
            },
            "marker": {
             "line": {
              "color": "#E5ECF6",
              "width": 0.5
             },
             "pattern": {
              "fillmode": "overlay",
              "size": 10,
              "solidity": 0.2
             }
            },
            "type": "bar"
           }
          ],
          "barpolar": [
           {
            "marker": {
             "line": {
              "color": "#E5ECF6",
              "width": 0.5
             },
             "pattern": {
              "fillmode": "overlay",
              "size": 10,
              "solidity": 0.2
             }
            },
            "type": "barpolar"
           }
          ],
          "carpet": [
           {
            "aaxis": {
             "endlinecolor": "#2a3f5f",
             "gridcolor": "white",
             "linecolor": "white",
             "minorgridcolor": "white",
             "startlinecolor": "#2a3f5f"
            },
            "baxis": {
             "endlinecolor": "#2a3f5f",
             "gridcolor": "white",
             "linecolor": "white",
             "minorgridcolor": "white",
             "startlinecolor": "#2a3f5f"
            },
            "type": "carpet"
           }
          ],
          "choropleth": [
           {
            "colorbar": {
             "outlinewidth": 0,
             "ticks": ""
            },
            "type": "choropleth"
           }
          ],
          "contour": [
           {
            "colorbar": {
             "outlinewidth": 0,
             "ticks": ""
            },
            "colorscale": [
             [
              0,
              "#0d0887"
             ],
             [
              0.1111111111111111,
              "#46039f"
             ],
             [
              0.2222222222222222,
              "#7201a8"
             ],
             [
              0.3333333333333333,
              "#9c179e"
             ],
             [
              0.4444444444444444,
              "#bd3786"
             ],
             [
              0.5555555555555556,
              "#d8576b"
             ],
             [
              0.6666666666666666,
              "#ed7953"
             ],
             [
              0.7777777777777778,
              "#fb9f3a"
             ],
             [
              0.8888888888888888,
              "#fdca26"
             ],
             [
              1,
              "#f0f921"
             ]
            ],
            "type": "contour"
           }
          ],
          "contourcarpet": [
           {
            "colorbar": {
             "outlinewidth": 0,
             "ticks": ""
            },
            "type": "contourcarpet"
           }
          ],
          "heatmap": [
           {
            "colorbar": {
             "outlinewidth": 0,
             "ticks": ""
            },
            "colorscale": [
             [
              0,
              "#0d0887"
             ],
             [
              0.1111111111111111,
              "#46039f"
             ],
             [
              0.2222222222222222,
              "#7201a8"
             ],
             [
              0.3333333333333333,
              "#9c179e"
             ],
             [
              0.4444444444444444,
              "#bd3786"
             ],
             [
              0.5555555555555556,
              "#d8576b"
             ],
             [
              0.6666666666666666,
              "#ed7953"
             ],
             [
              0.7777777777777778,
              "#fb9f3a"
             ],
             [
              0.8888888888888888,
              "#fdca26"
             ],
             [
              1,
              "#f0f921"
             ]
            ],
            "type": "heatmap"
           }
          ],
          "heatmapgl": [
           {
            "colorbar": {
             "outlinewidth": 0,
             "ticks": ""
            },
            "colorscale": [
             [
              0,
              "#0d0887"
             ],
             [
              0.1111111111111111,
              "#46039f"
             ],
             [
              0.2222222222222222,
              "#7201a8"
             ],
             [
              0.3333333333333333,
              "#9c179e"
             ],
             [
              0.4444444444444444,
              "#bd3786"
             ],
             [
              0.5555555555555556,
              "#d8576b"
             ],
             [
              0.6666666666666666,
              "#ed7953"
             ],
             [
              0.7777777777777778,
              "#fb9f3a"
             ],
             [
              0.8888888888888888,
              "#fdca26"
             ],
             [
              1,
              "#f0f921"
             ]
            ],
            "type": "heatmapgl"
           }
          ],
          "histogram": [
           {
            "marker": {
             "pattern": {
              "fillmode": "overlay",
              "size": 10,
              "solidity": 0.2
             }
            },
            "type": "histogram"
           }
          ],
          "histogram2d": [
           {
            "colorbar": {
             "outlinewidth": 0,
             "ticks": ""
            },
            "colorscale": [
             [
              0,
              "#0d0887"
             ],
             [
              0.1111111111111111,
              "#46039f"
             ],
             [
              0.2222222222222222,
              "#7201a8"
             ],
             [
              0.3333333333333333,
              "#9c179e"
             ],
             [
              0.4444444444444444,
              "#bd3786"
             ],
             [
              0.5555555555555556,
              "#d8576b"
             ],
             [
              0.6666666666666666,
              "#ed7953"
             ],
             [
              0.7777777777777778,
              "#fb9f3a"
             ],
             [
              0.8888888888888888,
              "#fdca26"
             ],
             [
              1,
              "#f0f921"
             ]
            ],
            "type": "histogram2d"
           }
          ],
          "histogram2dcontour": [
           {
            "colorbar": {
             "outlinewidth": 0,
             "ticks": ""
            },
            "colorscale": [
             [
              0,
              "#0d0887"
             ],
             [
              0.1111111111111111,
              "#46039f"
             ],
             [
              0.2222222222222222,
              "#7201a8"
             ],
             [
              0.3333333333333333,
              "#9c179e"
             ],
             [
              0.4444444444444444,
              "#bd3786"
             ],
             [
              0.5555555555555556,
              "#d8576b"
             ],
             [
              0.6666666666666666,
              "#ed7953"
             ],
             [
              0.7777777777777778,
              "#fb9f3a"
             ],
             [
              0.8888888888888888,
              "#fdca26"
             ],
             [
              1,
              "#f0f921"
             ]
            ],
            "type": "histogram2dcontour"
           }
          ],
          "mesh3d": [
           {
            "colorbar": {
             "outlinewidth": 0,
             "ticks": ""
            },
            "type": "mesh3d"
           }
          ],
          "parcoords": [
           {
            "line": {
             "colorbar": {
              "outlinewidth": 0,
              "ticks": ""
             }
            },
            "type": "parcoords"
           }
          ],
          "pie": [
           {
            "automargin": true,
            "type": "pie"
           }
          ],
          "scatter": [
           {
            "fillpattern": {
             "fillmode": "overlay",
             "size": 10,
             "solidity": 0.2
            },
            "type": "scatter"
           }
          ],
          "scatter3d": [
           {
            "line": {
             "colorbar": {
              "outlinewidth": 0,
              "ticks": ""
             }
            },
            "marker": {
             "colorbar": {
              "outlinewidth": 0,
              "ticks": ""
             }
            },
            "type": "scatter3d"
           }
          ],
          "scattercarpet": [
           {
            "marker": {
             "colorbar": {
              "outlinewidth": 0,
              "ticks": ""
             }
            },
            "type": "scattercarpet"
           }
          ],
          "scattergeo": [
           {
            "marker": {
             "colorbar": {
              "outlinewidth": 0,
              "ticks": ""
             }
            },
            "type": "scattergeo"
           }
          ],
          "scattergl": [
           {
            "marker": {
             "colorbar": {
              "outlinewidth": 0,
              "ticks": ""
             }
            },
            "type": "scattergl"
           }
          ],
          "scattermapbox": [
           {
            "marker": {
             "colorbar": {
              "outlinewidth": 0,
              "ticks": ""
             }
            },
            "type": "scattermapbox"
           }
          ],
          "scatterpolar": [
           {
            "marker": {
             "colorbar": {
              "outlinewidth": 0,
              "ticks": ""
             }
            },
            "type": "scatterpolar"
           }
          ],
          "scatterpolargl": [
           {
            "marker": {
             "colorbar": {
              "outlinewidth": 0,
              "ticks": ""
             }
            },
            "type": "scatterpolargl"
           }
          ],
          "scatterternary": [
           {
            "marker": {
             "colorbar": {
              "outlinewidth": 0,
              "ticks": ""
             }
            },
            "type": "scatterternary"
           }
          ],
          "surface": [
           {
            "colorbar": {
             "outlinewidth": 0,
             "ticks": ""
            },
            "colorscale": [
             [
              0,
              "#0d0887"
             ],
             [
              0.1111111111111111,
              "#46039f"
             ],
             [
              0.2222222222222222,
              "#7201a8"
             ],
             [
              0.3333333333333333,
              "#9c179e"
             ],
             [
              0.4444444444444444,
              "#bd3786"
             ],
             [
              0.5555555555555556,
              "#d8576b"
             ],
             [
              0.6666666666666666,
              "#ed7953"
             ],
             [
              0.7777777777777778,
              "#fb9f3a"
             ],
             [
              0.8888888888888888,
              "#fdca26"
             ],
             [
              1,
              "#f0f921"
             ]
            ],
            "type": "surface"
           }
          ],
          "table": [
           {
            "cells": {
             "fill": {
              "color": "#EBF0F8"
             },
             "line": {
              "color": "white"
             }
            },
            "header": {
             "fill": {
              "color": "#C8D4E3"
             },
             "line": {
              "color": "white"
             }
            },
            "type": "table"
           }
          ]
         },
         "layout": {
          "annotationdefaults": {
           "arrowcolor": "#2a3f5f",
           "arrowhead": 0,
           "arrowwidth": 1
          },
          "autotypenumbers": "strict",
          "coloraxis": {
           "colorbar": {
            "outlinewidth": 0,
            "ticks": ""
           }
          },
          "colorscale": {
           "diverging": [
            [
             0,
             "#8e0152"
            ],
            [
             0.1,
             "#c51b7d"
            ],
            [
             0.2,
             "#de77ae"
            ],
            [
             0.3,
             "#f1b6da"
            ],
            [
             0.4,
             "#fde0ef"
            ],
            [
             0.5,
             "#f7f7f7"
            ],
            [
             0.6,
             "#e6f5d0"
            ],
            [
             0.7,
             "#b8e186"
            ],
            [
             0.8,
             "#7fbc41"
            ],
            [
             0.9,
             "#4d9221"
            ],
            [
             1,
             "#276419"
            ]
           ],
           "sequential": [
            [
             0,
             "#0d0887"
            ],
            [
             0.1111111111111111,
             "#46039f"
            ],
            [
             0.2222222222222222,
             "#7201a8"
            ],
            [
             0.3333333333333333,
             "#9c179e"
            ],
            [
             0.4444444444444444,
             "#bd3786"
            ],
            [
             0.5555555555555556,
             "#d8576b"
            ],
            [
             0.6666666666666666,
             "#ed7953"
            ],
            [
             0.7777777777777778,
             "#fb9f3a"
            ],
            [
             0.8888888888888888,
             "#fdca26"
            ],
            [
             1,
             "#f0f921"
            ]
           ],
           "sequentialminus": [
            [
             0,
             "#0d0887"
            ],
            [
             0.1111111111111111,
             "#46039f"
            ],
            [
             0.2222222222222222,
             "#7201a8"
            ],
            [
             0.3333333333333333,
             "#9c179e"
            ],
            [
             0.4444444444444444,
             "#bd3786"
            ],
            [
             0.5555555555555556,
             "#d8576b"
            ],
            [
             0.6666666666666666,
             "#ed7953"
            ],
            [
             0.7777777777777778,
             "#fb9f3a"
            ],
            [
             0.8888888888888888,
             "#fdca26"
            ],
            [
             1,
             "#f0f921"
            ]
           ]
          },
          "colorway": [
           "#636efa",
           "#EF553B",
           "#00cc96",
           "#ab63fa",
           "#FFA15A",
           "#19d3f3",
           "#FF6692",
           "#B6E880",
           "#FF97FF",
           "#FECB52"
          ],
          "font": {
           "color": "#2a3f5f"
          },
          "geo": {
           "bgcolor": "white",
           "lakecolor": "white",
           "landcolor": "#E5ECF6",
           "showlakes": true,
           "showland": true,
           "subunitcolor": "white"
          },
          "hoverlabel": {
           "align": "left"
          },
          "hovermode": "closest",
          "mapbox": {
           "style": "light"
          },
          "paper_bgcolor": "white",
          "plot_bgcolor": "#E5ECF6",
          "polar": {
           "angularaxis": {
            "gridcolor": "white",
            "linecolor": "white",
            "ticks": ""
           },
           "bgcolor": "#E5ECF6",
           "radialaxis": {
            "gridcolor": "white",
            "linecolor": "white",
            "ticks": ""
           }
          },
          "scene": {
           "xaxis": {
            "backgroundcolor": "#E5ECF6",
            "gridcolor": "white",
            "gridwidth": 2,
            "linecolor": "white",
            "showbackground": true,
            "ticks": "",
            "zerolinecolor": "white"
           },
           "yaxis": {
            "backgroundcolor": "#E5ECF6",
            "gridcolor": "white",
            "gridwidth": 2,
            "linecolor": "white",
            "showbackground": true,
            "ticks": "",
            "zerolinecolor": "white"
           },
           "zaxis": {
            "backgroundcolor": "#E5ECF6",
            "gridcolor": "white",
            "gridwidth": 2,
            "linecolor": "white",
            "showbackground": true,
            "ticks": "",
            "zerolinecolor": "white"
           }
          },
          "shapedefaults": {
           "line": {
            "color": "#2a3f5f"
           }
          },
          "ternary": {
           "aaxis": {
            "gridcolor": "white",
            "linecolor": "white",
            "ticks": ""
           },
           "baxis": {
            "gridcolor": "white",
            "linecolor": "white",
            "ticks": ""
           },
           "bgcolor": "#E5ECF6",
           "caxis": {
            "gridcolor": "white",
            "linecolor": "white",
            "ticks": ""
           }
          },
          "title": {
           "x": 0.05
          },
          "xaxis": {
           "automargin": true,
           "gridcolor": "white",
           "linecolor": "white",
           "ticks": "",
           "title": {
            "standoff": 15
           },
           "zerolinecolor": "white",
           "zerolinewidth": 2
          },
          "yaxis": {
           "automargin": true,
           "gridcolor": "white",
           "linecolor": "white",
           "ticks": "",
           "title": {
            "standoff": 15
           },
           "zerolinecolor": "white",
           "zerolinewidth": 2
          }
         }
        },
        "width": 800,
        "xaxis": {
         "mirror": "allticks",
         "rangemode": "tozero",
         "showgrid": false,
         "showline": true,
         "showticklabels": true,
         "ticks": "outside",
         "type": "linear",
         "zeroline": false
        },
        "yaxis": {
         "mirror": "allticks",
         "rangemode": "tozero",
         "showgrid": false,
         "showline": true,
         "showticklabels": true,
         "tickmode": "array",
         "ticks": "outside",
         "ticktext": [
          "Republic of Dagestan",
          "Karachay-Cherkess Republic",
          "Republic of Adygea",
          "Republic of North Ossetia-Alania",
          "Kabardino-Balkar Republic",
          "Republic of Kalmykia",
          "Chukotka Autonomous Okrug",
          "Mari El Republic",
          "Chuvash Republic",
          "Republic of Buryatia",
          "Zabaykalsky Krai",
          "Kaluga Oblast",
          "Smolensk Oblast",
          "Perm Krai",
          "Leningrad Oblast",
          "Yaroslavl Oblast",
          "Kursk Oblast",
          "Orenburg Oblast",
          "Astrakhan Oblast",
          "Lipetsk Oblast",
          "Kaliningrad Oblast",
          "Pskov Oblast",
          "Kostroma Oblast",
          "Oryol Oblast",
          "Altai Krai",
          "Ryazan Oblast",
          "Tula Oblast",
          "Ulyanovsk Oblast",
          "Sakha (Yakutia) Republic",
          "Belgorod Oblast",
          "Rostov Oblast",
          "Republic of Mordovia",
          "Altai Republic",
          "Saratov Oblast",
          "Bryansk Oblast",
          "Tomsk Oblast",
          "Stavropol Krai",
          "Tambov Oblast",
          "Krasnodar Krai",
          "Nizhny Novgorod Oblast",
          "Jewish Autonomous Oblast",
          "Samara Oblast",
          "Magadan Oblast",
          "Republic of Karelia",
          "Murmansk Oblast",
          "Novgorod Oblast",
          "Vladimir Oblast",
          "Moscow Oblast",
          "Sakhalin Oblast",
          "Primorsky Krai",
          "Tver Oblast",
          "Kemerovo Oblast",
          "Kirov Oblast",
          "Kamchatka Krai",
          "Republic of Khakassia",
          "Khabarovsk Krai",
          "Moscow",
          "Tyumen Oblast",
          "Yamalo-Nenets Autonomous Okrug",
          "Komi Republic",
          "Khanty–Mansi Autonomous Okrug – Yugra",
          "Ivanovo Oblast",
          "Sverdlovsk Oblast",
          "Omsk Oblast",
          "Chelyabinsk Oblast",
          "Saint Petersburg",
          "Penza Oblast",
          "Arkhangelsk Oblast",
          "Nenets Autonomous Okrug",
          "Vologda Oblast",
          "Republic of Bashkortostan",
          "Volgograd Oblast",
          "Novosibirsk Oblast",
          "Amur Oblast",
          "Voronezh Oblast",
          "Tuva Republic",
          "Udmurt Republic",
          "Irkutsk Oblast",
          "Republic of Tatarstan",
          "Krasnoyarsk Krai",
          "Kurgan Oblast"
         ],
         "tickvals": [
          -5,
          -15,
          -25,
          -35,
          -45,
          -55,
          -65,
          -75,
          -85,
          -95,
          -105,
          -115,
          -125,
          -135,
          -145,
          -155,
          -165,
          -175,
          -185,
          -195,
          -205,
          -215,
          -225,
          -235,
          -245,
          -255,
          -265,
          -275,
          -285,
          -295,
          -305,
          -315,
          -325,
          -335,
          -345,
          -355,
          -365,
          -375,
          -385,
          -395,
          -405,
          -415,
          -425,
          -435,
          -445,
          -455,
          -465,
          -475,
          -485,
          -495,
          -505,
          -515,
          -525,
          -535,
          -545,
          -555,
          -565,
          -575,
          -585,
          -595,
          -605,
          -615,
          -625,
          -635,
          -645,
          -655,
          -665,
          -675,
          -685,
          -695,
          -705,
          -715,
          -725,
          -735,
          -745,
          -755,
          -765,
          -775,
          -785,
          -795,
          -805
         ],
         "type": "linear",
         "zeroline": false
        }
       }
      }
     },
     "metadata": {},
     "output_type": "display_data"
    }
   ],
   "source": [
    "fig1 = draw_plotly_f_cluster(df_merged, list(df_merged.index), orient='left', color_threshold=100)\n",
    "fig1.show()"
   ]
  },
  {
   "cell_type": "markdown",
   "metadata": {},
   "source": [
    "## Extract các labels theo màu bằng scipy.fcluster bằng các tham số từ plotly"
   ]
  },
  {
   "cell_type": "markdown",
   "metadata": {},
   "source": [
    "Đầu tiên, ta thấy rằng, nếu để color_thresh = 100, Saint-P thuộc cụm số 4, alongside 18 cái label khác. Khi hạ tham số xuống 75, Saint-P rớt xuống cụm phân loại số 5, cùng với chỉ 3 label khác.\n",
    "\n",
    "Khi data thay đổi, hierarchical cũng thay đổi, lúc này, ta phải dynamically lấy label của cụm\n",
    "\n",
    "Plotly thực chất là 1 wrapper cho scipy.dendrogram. Do đó, nếu sử dụng chung 1 tham số, ta có số cụm và label tương tự plotly."
   ]
  },
  {
   "cell_type": "code",
   "execution_count": 17,
   "metadata": {},
   "outputs": [],
   "source": [
    "from scipy.cluster.hierarchy import linkage, dendrogram\n",
    "from scipy_f_cluster import ScipyFcluster\n",
    "dn_params = {\n",
    "    'color_threshold': 100,\n",
    "    'leaf_font_size': 10,\n",
    "    'orientation': 'right'\n",
    "}"
   ]
  },
  {
   "cell_type": "code",
   "execution_count": 18,
   "metadata": {},
   "outputs": [],
   "source": [
    "dn_cls = ScipyFcluster(df_merged)\n",
    "dn_cls1 = ScipyFcluster(df_merged, normalize=False)"
   ]
  },
  {
   "cell_type": "code",
   "execution_count": 19,
   "metadata": {},
   "outputs": [
    {
     "data": {
      "image/png": "[encoded data removed]",
      "text/plain": [
       "<Figure size 1440x1440 with 1 Axes>"
      ]
     },
     "metadata": {},
     "output_type": "display_data"
    }
   ],
   "source": [
    "dn_cls.draw_dendrogram(**dn_params)"
   ]
  },
  {
   "cell_type": "markdown",
   "metadata": {},
   "source": [
    "# Dùng thuật toán KMeans để xác định cụm sơ cấp"
   ]
  },
  {
   "cell_type": "markdown",
   "metadata": {},
   "source": [
    "Bài toán KMeans là 1 bài toán hạt nhân, tức, ta phải chọn số lượng hạt nhân trước khi bài toán đc phân loại.\n",
    "\n",
    "Ngoài ra, Kmeans cũng là 1 bài toán random, tức seeding 1 hạt nhân vào 1 vị trí hoàn toàn due to randomness, dẫn tới kết quả của bài toán vô cùng khác biệt \n",
    "\n",
    "Do đó, bài toán KMeans ko bao giờ đc chạy lúc đầu, ta phải luôn luôn cần kết quả của Fcluster để gain insight on Kmeans"
   ]
  },
  {
   "cell_type": "code",
   "execution_count": 20,
   "metadata": {},
   "outputs": [],
   "source": [
    "from KMean_clustering import KMeanClustering"
   ]
  },
  {
   "cell_type": "code",
   "execution_count": 21,
   "metadata": {},
   "outputs": [],
   "source": [
    "k_cls = KMeanClustering(df_merged)\n",
    "k_cls.run_clustering(11)"
   ]
  },
  {
   "cell_type": "code",
   "execution_count": 22,
   "metadata": {},
   "outputs": [
    {
     "data": {
      "image/png": "[encoded data removed]",
      "text/plain": [
       "<Figure size 1080x576 with 1 Axes>"
      ]
     },
     "metadata": {},
     "output_type": "display_data"
    }
   ],
   "source": [
    "k_cls.plot_inertia_elbow_plot()"
   ]
  },
  {
   "cell_type": "markdown",
   "metadata": {},
   "source": [
    "Inertia của KMeans hầu như là fail hoàn toàn, tuy nhiên, dựa vào Fcluster, ta có thể lấy 4 cụm"
   ]
  },
  {
   "cell_type": "markdown",
   "metadata": {},
   "source": [
    "Lưu ý: Kmeans Clustering là hạt nhân đa chiều, do đó, ko thể plot lên 1 mặt phẳng xy đc. để plot nó lên 1 mặt phẳng xy, bắt buộc phải PCA nó xuống còn 2 trục"
   ]
  },
  {
   "cell_type": "code",
   "execution_count": 60,
   "metadata": {},
   "outputs": [],
   "source": [
    "ttt = k_cls.get_label()"
   ]
  },
  {
   "cell_type": "markdown",
   "metadata": {},
   "source": [
    "Ta sẽ lấy cụm 4 để lấy labels của tất cả các data có chung cụm với Saint P"
   ]
  },
  {
   "cell_type": "code",
   "execution_count": 61,
   "metadata": {},
   "outputs": [],
   "source": [
    "def count_region_by_k_value(k:str, df):\n",
    "    ttt = df[[k]]\n",
    "    k_val = ttt.loc['Saint Petersburg'].values[0]\n",
    "    similar = ttt[ttt[k] == k_val]\n",
    "    return len(similar)\n"
   ]
  },
  {
   "cell_type": "code",
   "execution_count": 62,
   "metadata": {},
   "outputs": [],
   "source": [
    "k4 = count_region_by_k_value('k=4', ttt)\n",
    "k5 = count_region_by_k_value('k=5', ttt)\n",
    "k6 = count_region_by_k_value('k=6', ttt)"
   ]
  },
  {
   "cell_type": "markdown",
   "metadata": {},
   "source": [
    "Như vậy, giá trị khi k=4 ko khác với Fcluster, chứng tỏ kmean vẫn phân hạt nhân đúng (và fcluster phân hạt nhân đúng)\n",
    "\n",
    "tại k=6, ta narrow đc có tận 7 khu vực có độ similar tương tự với Saint-P"
   ]
  },
  {
   "cell_type": "code",
   "execution_count": null,
   "metadata": {},
   "outputs": [],
   "source": []
  }
 ],
 "metadata": {
  "interpreter": {
   "hash": "f067664093d531e183ba7ad16f86b8a673b6996b06b784d8aa5faa47dce8f85b"
  },
  "kernelspec": {
   "display_name": "Python 3.8.7 ('data_science--pQqXRHO')",
   "language": "python",
   "name": "python3"
  },
  "language_info": {
   "codemirror_mode": {
    "name": "ipython",
    "version": 3
   },
   "file_extension": ".py",
   "mimetype": "text/x-python",
   "name": "python",
   "nbconvert_exporter": "python",
   "pygments_lexer": "ipython3",
   "version": "3.8.7"
  },
  "orig_nbformat": 4
 },
 "nbformat": 4,
 "nbformat_minor": 2
}
